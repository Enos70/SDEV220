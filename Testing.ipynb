{
 "cells": [
  {
   "cell_type": "markdown",
   "id": "2e133565-3e79-4b06-9b2b-1c7ea8608a81",
   "metadata": {},
   "source": [
    "# M05 Programming Assignment - Testing\n",
    "## Firisiya Chiomadzi\n",
    "## Testing.ipynb\n",
    "## 04/21/2024"
   ]
  },
  {
   "cell_type": "markdown",
   "id": "41f01281-e185-4c5b-83b2-f8860d0e8af4",
   "metadata": {},
   "source": [
    "## Test Results"
   ]
  },
  {
   "cell_type": "markdown",
   "id": "d440cf33-8451-4870-b48c-ae32c140d558",
   "metadata": {},
   "source": [
    "### 1. Testing Your Results"
   ]
  },
  {
   "cell_type": "markdown",
   "id": "ad1be23d-77ce-4dad-95ee-61068fe7cb86",
   "metadata": {},
   "source": [
    "After executing the test cases for the `sum` function, here are the outcomes:"
   ]
  },
  {
   "cell_type": "markdown",
   "id": "8d0ff542-385b-469a-a928-8a57bd4b1c70",
   "metadata": {},
   "source": [
    "**Test Case 1:** Sum of [1, 2, 3]\r\n",
    "  - Outcome: Passed\r\n",
    "  - Explanation: The sum function correctly calculated the sum of the list [1, 2, 3], resulting in 6, which matched the expected value."
   ]
  },
  {
   "cell_type": "markdown",
   "id": "214c0208-01ae-452f-b35b-2a4ed70d18bb",
   "metadata": {},
   "source": [
    "**Test Case 2:** Sum of [1, 1, 1]\r\n",
    "  - Outcome: Failed\r\n",
    "  - Explanation: The sum function incorrectly calculated the sum of the list [1, 1, 1] as 3, which did not match the expected value of 6."
   ]
  },
  {
   "cell_type": "markdown",
   "id": "e170d89e-263a-40f7-be9b-a0f2f1cd6ab5",
   "metadata": {},
   "source": [
    "Overall, the first test case passed, indicating that the sum function works correctly for lists of integers. \n",
    "However, the second test case failed, highlighting a discrepancy in the function's behavior for certain input lists."
   ]
  },
  {
   "cell_type": "markdown",
   "id": "12e46664-9454-4ac9-acdc-61d96d7ee900",
   "metadata": {},
   "source": [
    "### 2. Writing Your First Test"
   ]
  },
  {
   "cell_type": "markdown",
   "id": "a0eb3e96-7d87-48bf-9908-4b0a6e9179b5",
   "metadata": {},
   "source": [
    "**The Following Activities were conducted:**\n",
    "\n",
    "- Created a project structure with a folder named my_sum.\n",
    "- Inside my_sum, created an __init__.py file.\n",
    "- Defined a sum function inside my_sum/__init__.py.\n",
    "- Created a test file named test.py to test the sum function.\n",
    "- Implemented test cases using the unittest framework."
   ]
  },
  {
   "cell_type": "markdown",
   "id": "11ca4fe9-3f83-4378-91d8-cb9d55ef1fd2",
   "metadata": {},
   "source": [
    "The file creation of test.py, and the creation of init.py to enable importing of the my_sum folder as a module from its parent directory (sum), \n",
    "and unittest was successful and the initial test structure was set up."
   ]
  },
  {
   "cell_type": "markdown",
   "id": "b7fbce30-ed3d-4a35-bea9-2eb80456d65a",
   "metadata": {},
   "source": [
    "### 3. Executing Your First Test"
   ]
  },
  {
   "cell_type": "markdown",
   "id": "a371dbb4-2d3f-4ebd-a150-13398d7db4ef",
   "metadata": {},
   "source": [
    "**After writing the first test case in test.py, I executed it using the unittest framework.**"
   ]
  },
  {
   "cell_type": "markdown",
   "id": "b000e4f4-c688-40df-a6b3-a8df2bb926a6",
   "metadata": {},
   "source": [
    "- I had some failures, especially on line 21 at this stage where I was expecting the sum of 1/4, 1/4, and 2/5 to be 1.\n",
    "- The assertion error indicated (9, 10) which was not equal to 1 (!=1).\n",
    "- However, after several attempts, the expected outcome of the test case passed, \n",
    "indicating that the sum function correctly calculates the sum of a list of integers.\n",
    "- Running the Debugger in the VS Code showed that some tests had passed yet others had not.\n",
    "- There was coordination between running the code in VS Code and the command line as well as on the local machine."
   ]
  },
  {
   "cell_type": "markdown",
   "id": "7fd8b848-02ba-491a-a6d4-98d862edcc88",
   "metadata": {},
   "source": [
    "**In Conclusion:**"
   ]
  },
  {
   "cell_type": "markdown",
   "id": "2706c3c3-2347-474f-9ca8-72896edaf789",
   "metadata": {},
   "source": [
    "The significance of the test case within the broader testing framework lies in its role as a foundational component of the overall testing strategy. "
   ]
  },
  {
   "cell_type": "markdown",
   "id": "87e118f3-6a81-459f-878c-d6d79dad0f83",
   "metadata": {},
   "source": [
    "**Baseline Validation:** The test case serves as a baseline validation of the functionality of the sum function. \n",
    "- By verifying that the function correctly calculates the sum of a simple list of integers, you establish confidence in its basic behavior."
   ]
  },
  {
   "cell_type": "markdown",
   "id": "5242f318-9f45-4821-8194-cb851588eef0",
   "metadata": {},
   "source": [
    "**Building Block:** Test cases like this one act as building blocks for more complex test scenarios.\n",
    "- Once you establish that the sum function behaves as expected with simple inputs, you can progressively add more test cases to \n",
    "cover edge cases, boundary conditions, and different data types."
   ]
  },
  {
   "cell_type": "markdown",
   "id": "1bb9965e-90bb-4251-b297-2a787e96a6e9",
   "metadata": {},
   "source": [
    "**Regression Testing:** As the codebase evolves, this test case becomes part of the regression testing suite. \n",
    "- Regression testing ensures that previously implemented functionality, such as the sum function, continues to work correctly \n",
    "even after changes are made elsewhere in the codebase."
   ]
  },
  {
   "cell_type": "markdown",
   "id": "f5dff8e9-b08e-4cca-ae0d-b20755ffaa6e",
   "metadata": {},
   "source": [
    "**Documentation and Understanding:** Documenting and understanding the behavior of fundamental functions like sum is essential for developers and maintainers. \n",
    "- The test case provides clear documentation of the expected behavior, making it easier for others to understand and modify the code in the future."
   ]
  },
  {
   "cell_type": "markdown",
   "id": "42890356-159f-4e55-9536-d14d995b4561",
   "metadata": {},
   "source": [
    "**Quality Assurance:** By incorporating test cases into the development process, you contribute to the overall quality assurance of the software. \n",
    "- Ensuring that basic functionality works as expected reduces the likelihood of bugs and errors in the application."
   ]
  },
  {
   "cell_type": "markdown",
   "id": "e902ee59-597c-4281-90f1-acc81609180b",
   "metadata": {},
   "source": [
    "In summary, while the initial test case for summing a list of integers may seem simple, its significance lies in its role as a foundational element of the broader testing framework."
   ]
  },
  {
   "cell_type": "markdown",
   "id": "9719bd52-e60e-41fb-a26d-3719d000bf5b",
   "metadata": {},
   "source": [
    "It establishes confidence in the functionality of the sum function and sets the stage for more comprehensive testing efforts."
   ]
  }
 ],
 "metadata": {
  "kernelspec": {
   "display_name": "Python 3 (ipykernel)",
   "language": "python",
   "name": "python3"
  },
  "language_info": {
   "codemirror_mode": {
    "name": "ipython",
    "version": 3
   },
   "file_extension": ".py",
   "mimetype": "text/x-python",
   "name": "python",
   "nbconvert_exporter": "python",
   "pygments_lexer": "ipython3",
   "version": "3.11.7"
  }
 },
 "nbformat": 4,
 "nbformat_minor": 5
}
