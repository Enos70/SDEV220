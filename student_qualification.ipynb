{
 "cells": [
  {
   "cell_type": "markdown",
   "id": "6030bd53-523f-4e24-acb9-b198348c240c",
   "metadata": {},
   "source": [
    "# M02 Lab - Case Study: If...else and while"
   ]
  },
  {
   "cell_type": "markdown",
   "id": "0ca67e98-a12a-4d6a-8c3e-796b8ed61383",
   "metadata": {},
   "source": [
    "## Student Application App\n",
    "### Name: Firisiya Chiomadzi\n",
    "### File Name: student_application.ipynb\n",
    "### Description/Purpose: "
   ]
  },
  {
   "cell_type": "markdown",
   "id": "b94e0da5-9b94-4a1f-b6c0-0d1adeef7354",
   "metadata": {},
   "source": [
    "The purpose of this Jupyter Notebook is to create a Python app that accepts student names and GPAs and determines if they qualify for the Dean's List or the Honor Roll.\n"
   ]
  },
  {
   "cell_type": "markdown",
   "id": "b59efa61-4267-40be-820b-add485a04a00",
   "metadata": {},
   "source": [
    "## Instructions\r\n",
    "1. The app will ask for and accept a student's last name.\r\n",
    "2. Processing student records will quit if the last name entered is 'ZZZ'.\r\n",
    "3. The app will ask for and accept a student's first name.\r\n",
    "4. The app will ask for and accept the student's GPA as a float.\r\n",
    "5. It will test if the student's GPA is 3.5 or greater and, if so, print a message saying that the student has made the Dean's List.\r\n",
    "6. It will test if the student's GPA is 3.25 or greater and, if so, print a message saying that the student has made the Honor Roll."
   ]
  },
  {
   "cell_type": "code",
   "execution_count": 2,
   "id": "0360d96b-5d48-4f10-92dd-1d005e3afa20",
   "metadata": {},
   "outputs": [
    {
     "name": "stdin",
     "output_type": "stream",
     "text": [
      "Enter the student's last name:  Johnson \n",
      "Enter the student's first name:  Emily\n",
      "Enter the student's GPA:  3.0\n"
     ]
    },
    {
     "name": "stdout",
     "output_type": "stream",
     "text": [
      "Sorry, Emily Johnson  does not qualify for the Dean's List or Honor Roll.\n"
     ]
    }
   ],
   "source": [
    "# Prompt user to input student information\n",
    "last_name = input(\"Enter the student's last name: \")\n",
    "first_name = input(\"Enter the student's first name: \")\n",
    "gpa = float(input(\"Enter the student's GPA: \"))\n",
    "\n",
    "# Perform calculations to determine the qualification\n",
    "if gpa >= 3.5:\n",
    "    print(f\"{first_name} {last_name} has made the Dean's List!\")\n",
    "elif gpa >= 3.25:\n",
    "    print(f\"{first_name} {last_name} has made the Honor Roll!\")\n",
    "else:\n",
    "    print(f\"Sorry, {first_name} {last_name} does not qualify for the Dean's List or Honor Roll.\")"
   ]
  },
  {
   "cell_type": "markdown",
   "id": "1c57f6c8-0cc7-4cea-8582-0d3b8e13d9ad",
   "metadata": {},
   "source": [
    "### List of Students for Testing, GPAs, and the expected results.\n",
    "1. John Smith 3.7 John Smith has made the Deans List!\n",
    "2. Emily Johnson 3.0 Emily Johnson does not qualify for the Dean's List or Honor Roll.\n",
    "3. Miguel Garcia 3.8 Miguel Garcia has made the Dean's List!\n",
    "4. Firisiya Chiomadzi 3.3 Firisiya Chiomadzi has made the Honor Roll!\n",
    "5. Priya Partel 3.5 Priya Partel has made the Dean's List!"
   ]
  }
 ],
 "metadata": {
  "kernelspec": {
   "display_name": "Python 3 (ipykernel)",
   "language": "python",
   "name": "python3"
  },
  "language_info": {
   "codemirror_mode": {
    "name": "ipython",
    "version": 3
   },
   "file_extension": ".py",
   "mimetype": "text/x-python",
   "name": "python",
   "nbconvert_exporter": "python",
   "pygments_lexer": "ipython3",
   "version": "3.11.7"
  }
 },
 "nbformat": 4,
 "nbformat_minor": 5
}
