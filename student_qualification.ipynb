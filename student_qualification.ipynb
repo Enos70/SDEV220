{
 "cells": [
  {
   "cell_type": "markdown",
   "id": "b78e8ef0-41a1-4019-a702-fd84904e4ab6",
   "metadata": {},
   "source": [
    "# M02 Lab - Case Study: If...else and while "
   ]
  },
  {
   "cell_type": "markdown",
   "id": "a472a66b-9e0e-441a-ba04-952d293ce52f",
   "metadata": {},
   "source": [
    "# Student Qualification App"
   ]
  },
  {
   "cell_type": "markdown",
   "id": "08828782-79e0-4b10-80f5-1c61aae44e6d",
   "metadata": {},
   "source": [
    "## Name: Firisiya Chiomadzi\n",
    "## File Name: student_qualification.ipynb\n",
    "## Purpose:"
   ]
  },
  {
   "cell_type": "markdown",
   "id": "cb05d736-ccf6-47fb-8ff9-f98a51cd96c4",
   "metadata": {},
   "source": [
    "The purpose of this Jupyter Notebook is to create a Python app that accepts student names and GPAs and determines if they qualify for the Dean's List or the Honor Roll.\r\n"
   ]
  },
  {
   "cell_type": "markdown",
   "id": "5cc365f1-a99f-4ea9-92a1-1c8c7b72f265",
   "metadata": {},
   "source": [
    "## Instructions\r\n",
    "1. The app will ask for and accept a student's last name.\r\n",
    "2. Processing student records will quit if the last name entered is 'ZZZ'.\r\n",
    "3. The app will ask for and accept a student's first name.\r\n",
    "4. The app will ask for and accept the student's GPA as a float.\r\n",
    "5. It will test if the student's GPA is 3.5 or greater and, if so, print a message saying that the student has made the Dean's List.\r\n",
    "6. It will test if the student's GPA is 3.25 or greater and, if so, print a message saying that the student has made the Honor Roll.\r\n"
   ]
  },
  {
   "cell_type": "code",
   "execution_count": 1,
   "id": "728f6def-7149-4ebb-9dff-3e387836e038",
   "metadata": {},
   "outputs": [
    {
     "name": "stdin",
     "output_type": "stream",
     "text": [
      "Enter the student's last name:  Johnson\n",
      "Enter the student's first name:  Emily\n",
      "Enter the student's GPA:  3.0\n"
     ]
    }
   ],
   "source": [
    "# Prompt user to input student information\n",
    "last_name = input(\"Enter the student's last name: \")\n",
    "first_name = input(\"Enter the student's first name: \")\n",
    "gpa = float(input(\"Enter the student's GPA: \"))"
   ]
  },
  {
   "cell_type": "code",
   "execution_count": 2,
   "id": "113085da-3cbb-4215-8ccc-f0cdc9d1edd1",
   "metadata": {},
   "outputs": [
    {
     "name": "stdout",
     "output_type": "stream",
     "text": [
      "Sorry, Emily Johnson does not qualify for the Dean's List or Honor Roll.\n"
     ]
    }
   ],
   "source": [
    "# Perform calculations to determine the qualification\n",
    "if gpa >= 3.5:\n",
    "    print(f\"{first_name} {last_name} has made the Dean's List!\")\n",
    "elif gpa >= 3.25:\n",
    "    print(f\"{first_name} {last_name} has made the Honor Roll!\")\n",
    "else:\n",
    "    print(f\"Sorry, {first_name} {last_name} does not qualify for the Dean's List or Honor Roll.\")"
   ]
  },
  {
   "cell_type": "code",
   "execution_count": 1,
   "id": "a8577904-93bb-46a5-a670-c9270a750a04",
   "metadata": {},
   "outputs": [
    {
     "name": "stdin",
     "output_type": "stream",
     "text": [
      "Enter the student's last name:  Smith\n",
      "Enter the student's first name:  John\n",
      "Enter the student's GPA:  3.7\n"
     ]
    }
   ],
   "source": [
    "# Prompt user to input student information\n",
    "last_name = input(\"Enter the student's last name: \")\n",
    "first_name = input(\"Enter the student's first name: \")\n",
    "gpa = float(input(\"Enter the student's GPA: \"))"
   ]
  },
  {
   "cell_type": "code",
   "execution_count": 2,
   "id": "3d1645cf-d6c1-46ca-8827-c63bf4e87d77",
   "metadata": {},
   "outputs": [
    {
     "name": "stdout",
     "output_type": "stream",
     "text": [
      "John Smith has made the Dean's List!\n"
     ]
    }
   ],
   "source": [
    "# Perform calculations to determine the qualification\n",
    "if gpa >= 3.5:\n",
    "    print(f\"{first_name} {last_name} has made the Dean's List!\")\n",
    "elif gpa >= 3.25:\n",
    "    print(f\"{first_name} {last_name} has made the Honor Roll!\")\n",
    "else:\n",
    "    print(f\"Sorry, {first_name} {last_name} does not qualify for the Dean's List or Honor Roll.\")"
   ]
  },
  {
   "cell_type": "code",
   "execution_count": 3,
   "id": "88fa683f-42fd-42a6-a358-7cf44f5a7843",
   "metadata": {},
   "outputs": [
    {
     "name": "stdin",
     "output_type": "stream",
     "text": [
      "Enter the student's last name:  Garcia\n",
      "Enter the student's first name:  Miguel\n",
      "Enter the student's GPA:  3.8\n"
     ]
    }
   ],
   "source": [
    "# Prompt user to input student information\n",
    "last_name = input(\"Enter the student's last name: \")\n",
    "first_name = input(\"Enter the student's first name: \")\n",
    "gpa = float(input(\"Enter the student's GPA: \"))"
   ]
  },
  {
   "cell_type": "code",
   "execution_count": 4,
   "id": "ebba2fc9-3d0e-4805-99b2-f62e677a1c66",
   "metadata": {},
   "outputs": [
    {
     "name": "stdout",
     "output_type": "stream",
     "text": [
      "Miguel Garcia has made the Dean's List!\n"
     ]
    }
   ],
   "source": [
    "# Perform calculations to determine the qualification\n",
    "if gpa >= 3.5:\n",
    "    print(f\"{first_name} {last_name} has made the Dean's List!\")\n",
    "elif gpa >= 3.25:\n",
    "    print(f\"{first_name} {last_name} has made the Honor Roll!\")\n",
    "else:\n",
    "    print(f\"Sorry, {first_name} {last_name} does not qualify for the Dean's List or Honor Roll.\")"
   ]
  },
  {
   "cell_type": "code",
   "execution_count": 5,
   "id": "f160d311-769d-4a06-a70f-a246062a4a78",
   "metadata": {},
   "outputs": [
    {
     "name": "stdin",
     "output_type": "stream",
     "text": [
      "Enter the student's last name:  Chiomadzi\n",
      "Enter the student's first name:  Firisiya\n",
      "Enter the student's GPA:  3.3\n"
     ]
    }
   ],
   "source": [
    "# Prompt user to input student information\n",
    "last_name = input(\"Enter the student's last name: \")\n",
    "first_name = input(\"Enter the student's first name: \")\n",
    "gpa = float(input(\"Enter the student's GPA: \"))"
   ]
  },
  {
   "cell_type": "code",
   "execution_count": 6,
   "id": "4d68722a-27f3-4e29-a362-b41eb7521673",
   "metadata": {},
   "outputs": [
    {
     "name": "stdout",
     "output_type": "stream",
     "text": [
      "Firisiya Chiomadzi has made the Honor Roll!\n"
     ]
    }
   ],
   "source": [
    "# Perform calculations to determine the qualification\n",
    "if gpa >= 3.5:\n",
    "    print(f\"{first_name} {last_name} has made the Dean's List!\")\n",
    "elif gpa >= 3.25:\n",
    "    print(f\"{first_name} {last_name} has made the Honor Roll!\")\n",
    "else:\n",
    "    print(f\"Sorry, {first_name} {last_name} does not qualify for the Dean's List or Honor Roll.\")"
   ]
  },
  {
   "cell_type": "code",
   "execution_count": 7,
   "id": "ff941d11-5c26-427f-983a-27d7b6d1366a",
   "metadata": {},
   "outputs": [
    {
     "name": "stdin",
     "output_type": "stream",
     "text": [
      "Enter the student's last name:  Patel\n",
      "Enter the student's first name:  Priya\n",
      "Enter the student's GPA:  3.5\n"
     ]
    }
   ],
   "source": [
    "# Prompt user to input student information\n",
    "last_name = input(\"Enter the student's last name: \")\n",
    "first_name = input(\"Enter the student's first name: \")\n",
    "gpa = float(input(\"Enter the student's GPA: \"))"
   ]
  },
  {
   "cell_type": "code",
   "execution_count": 8,
   "id": "2cac3c40-c683-491a-872f-88db518e71df",
   "metadata": {},
   "outputs": [
    {
     "name": "stdout",
     "output_type": "stream",
     "text": [
      "Priya Patel has made the Dean's List!\n"
     ]
    }
   ],
   "source": [
    "# Perform calculations to determine the qualification\n",
    "if gpa >= 3.5:\n",
    "    print(f\"{first_name} {last_name} has made the Dean's List!\")\n",
    "elif gpa >= 3.25:\n",
    "    print(f\"{first_name} {last_name} has made the Honor Roll!\")\n",
    "else:\n",
    "    print(f\"Sorry, {first_name} {last_name} does not qualify for the Dean's List or Honor Roll.\")"
   ]
  },
  {
   "cell_type": "markdown",
   "id": "90976ccb-0f72-409c-99a4-449ef958a510",
   "metadata": {},
   "source": [
    "### List of Students for Testing\n",
    "- John Smith\r\n",
    "- Emily Johnson\r\n",
    "- Miguel Garcia\r\n",
    "- Firisiya Chiomadzi\r\n",
    "- Priya Patel"
   ]
  }
 ],
 "metadata": {
  "kernelspec": {
   "display_name": "Python 3 (ipykernel)",
   "language": "python",
   "name": "python3"
  },
  "language_info": {
   "codemirror_mode": {
    "name": "ipython",
    "version": 3
   },
   "file_extension": ".py",
   "mimetype": "text/x-python",
   "name": "python",
   "nbconvert_exporter": "python",
   "pygments_lexer": "ipython3",
   "version": "3.11.7"
  }
 },
 "nbformat": 4,
 "nbformat_minor": 5
}
