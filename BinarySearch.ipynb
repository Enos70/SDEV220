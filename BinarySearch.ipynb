{
 "cells": [
  {
   "cell_type": "markdown",
   "id": "36fe73b9-de8a-4bea-ac02-bff79fc76cf1",
   "metadata": {},
   "source": [
    "# M03 Tutorial - Functional Programming\n",
    "## Firisiya Chiomadzi\n",
    "## 04/05/2024\n",
    "### Python Lambda : BinarySearch"
   ]
  },
  {
   "cell_type": "markdown",
   "id": "6c065f1b-db60-4f9a-9197-33c8248c59f3",
   "metadata": {},
   "source": [
    "Given a sorted array of size N and an integer K, find the position(0-based indexing) at which K is present in the array using binary search."
   ]
  },
  {
   "cell_type": "markdown",
   "id": "7da55d3e-55f7-4903-a877-3d600038c839",
   "metadata": {},
   "source": [
    "### Example 1"
   ]
  },
  {
   "cell_type": "markdown",
   "id": "6f28e5cb-fe57-4d11-a05c-9aa6546ced18",
   "metadata": {},
   "source": [
    "Input:\n",
    "N = 5\n",
    "arr[] = {1 2 3 4 5} \n",
    "K = 4\n",
    "Output: 3\r\n",
    "Explanation: 4 appears at index 3."
   ]
  },
  {
   "cell_type": "markdown",
   "id": "900b0ab5-132a-47b3-a038-8df71ae35e83",
   "metadata": {},
   "source": [
    "### Example 2"
   ]
  },
  {
   "cell_type": "markdown",
   "id": "ffba5142-b26b-49f1-8ccc-ad355a4cfdee",
   "metadata": {},
   "source": [
    "Input:\r\n",
    "N = 5\r\n",
    "arr[] = {11 22 33 44 55} \r\n",
    "K = 445\r\n",
    "Output: -1\r\n",
    "Explanation: 445 is not present."
   ]
  },
  {
   "cell_type": "markdown",
   "id": "75305621-7d2c-4f3e-8bfa-16faf33067bf",
   "metadata": {},
   "source": [
    "Your Task:  \n",
    "Complete the function binarysearch() which takes arr[], N and K as input parameters and returns the index of K in the array. \n",
    "If K is not present in the array, return -1."
   ]
  },
  {
   "cell_type": "code",
   "execution_count": 2,
   "id": "121740c4-1f3b-443a-adee-b99002f9563f",
   "metadata": {},
   "outputs": [
    {
     "name": "stdout",
     "output_type": "stream",
     "text": [
      "3\n",
      "-1\n"
     ]
    }
   ],
   "source": [
    "class Solution:\n",
    "    def binary_search(self, arr, n, k):\n",
    "        left = 0\n",
    "        right = n - 1\n",
    "        \n",
    "        while left <= right:\n",
    "            mid = left + (right - left) // 2\n",
    "            \n",
    "            # Check if k is present at mid\n",
    "            if arr[mid] == k:\n",
    "                return mid\n",
    "            \n",
    "            # If k is greater, ignore left half\n",
    "            elif arr[mid] < k:\n",
    "                left = mid + 1\n",
    "            \n",
    "            # If k is smaller, ignore right half\n",
    "            else:\n",
    "                right = mid - 1\n",
    "        \n",
    "        # If we reach here, then the element was not present\n",
    "        return -1\n",
    "\n",
    "# Driver code ends\n",
    "if __name__ == \"__main__\":\n",
    "    sol = Solution()\n",
    "    \n",
    "    N = 5\n",
    "    arr = [1, 2, 3, 4, 5]\n",
    "    K = 4\n",
    "    print(sol.binary_search(arr, N, K))  # Output: 3\n",
    "    \n",
    "    N = 5\n",
    "    arr = [11, 22, 33, 44, 55]\n",
    "    K = 445\n",
    "    print(sol.binary_search(arr, N, K))  # Output: -1"
   ]
  }
 ],
 "metadata": {
  "kernelspec": {
   "display_name": "Python 3 (ipykernel)",
   "language": "python",
   "name": "python3"
  },
  "language_info": {
   "codemirror_mode": {
    "name": "ipython",
    "version": 3
   },
   "file_extension": ".py",
   "mimetype": "text/x-python",
   "name": "python",
   "nbconvert_exporter": "python",
   "pygments_lexer": "ipython3",
   "version": "3.11.7"
  }
 },
 "nbformat": 4,
 "nbformat_minor": 5
}
