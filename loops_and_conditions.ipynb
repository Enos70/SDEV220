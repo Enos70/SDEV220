{
 "cells": [
  {
   "cell_type": "markdown",
   "id": "41f15324-e015-4267-bbb7-82b972065db2",
   "metadata": {},
   "source": [
    "# M02 Programming Assignment: Loops and Conditions"
   ]
  },
  {
   "cell_type": "markdown",
   "id": "32011fd4-9872-42e0-932c-fd2b2378b146",
   "metadata": {},
   "source": [
    "## Name: Firisiya Chiomadzi\n",
    "## File Name: loops_and_conditions\n",
    "## Date: 03/29/2024"
   ]
  },
  {
   "cell_type": "markdown",
   "id": "e5fe5abb-73e1-46c5-a952-dbadf630d2dc",
   "metadata": {},
   "source": [
    "4.1 Choose a number between 1 and 10 and assign it to the variable secret. Then, select another number between 1 and 10 and assign it to the variable guess. Next, write the conditional tests (if, else, and elif) to print the string 'too low' if guess is less than secret, 'too high' if greater than secret, and 'just right' if equal to secret."
   ]
  },
  {
   "cell_type": "code",
   "execution_count": 1,
   "id": "e64e1ca8-6684-4af8-b5d2-16fbfaae1c1e",
   "metadata": {},
   "outputs": [
    {
     "name": "stdout",
     "output_type": "stream",
     "text": [
      "too low\n"
     ]
    }
   ],
   "source": [
    "# Assigning values to variables\n",
    "secret = 7\n",
    "guess = 4\n",
    "\n",
    "# Conditional tests\n",
    "if guess < secret:\n",
    "    print('too low')\n",
    "elif guess > secret:\n",
    "    print('too high')\n",
    "else:\n",
    "    print('just right')"
   ]
  },
  {
   "cell_type": "markdown",
   "id": "56c7a921-296d-4fe1-a161-cc047117d1c5",
   "metadata": {},
   "source": [
    "The above code assigns a value to the variable secret and another value to the variable guess. Then, it performs conditional tests using if, elif, and else statements to determine if the guess is too low, too high, or just right compared to the secret value."
   ]
  },
  {
   "cell_type": "markdown",
   "id": "85b54d6d-980a-45e4-9f35-83b1c71dbd36",
   "metadata": {},
   "source": [
    "4.2 Assign True or False to the variables small and green. Write some if/else statements to print which of these matches those choices: cherry, pea, watermelon, pumpkin.                        "
   ]
  },
  {
   "cell_type": "code",
   "execution_count": 2,
   "id": "e8bbf276-6406-42a7-be39-4410a03f7592",
   "metadata": {},
   "outputs": [
    {
     "name": "stdout",
     "output_type": "stream",
     "text": [
      "cherry\n"
     ]
    }
   ],
   "source": [
    "# Assigning True or False to variables\n",
    "small = True\n",
    "green = False\n",
    "\n",
    "# Checking matches\n",
    "if small:\n",
    "    if green:\n",
    "        print('pea')\n",
    "    else:\n",
    "        print('cherry')\n",
    "else:\n",
    "    if green:\n",
    "        print('watermelon')\n",
    "    else:\n",
    "        print('pumpkin')"
   ]
  },
  {
   "cell_type": "markdown",
   "id": "34e9ace9-178e-44e8-bb56-ba0dc6eec801",
   "metadata": {},
   "source": [
    "The above code assigns values to the variables small and green, then uses nested if statements to determine which choice matches the given conditions: cherry, pea, watermelon, or pumpkin."
   ]
  },
  {
   "cell_type": "markdown",
   "id": "de5df69d-5dea-4beb-b748-bc33b7e11f6b",
   "metadata": {},
   "source": [
    "6.1 Use a for loop to print the values of the list [3, 2, 1, 0]."
   ]
  },
  {
   "cell_type": "code",
   "execution_count": 3,
   "id": "ee11e429-9ed1-4849-9e93-503062d39c16",
   "metadata": {},
   "outputs": [
    {
     "name": "stdout",
     "output_type": "stream",
     "text": [
      "3\n",
      "2\n",
      "1\n",
      "0\n"
     ]
    }
   ],
   "source": [
    "# Using a for loop to print values\n",
    "for num in [3, 2, 1, 0]:\n",
    "    print(num)"
   ]
  },
  {
   "cell_type": "markdown",
   "id": "536c7e78-960c-4353-8486-3fbdf02141c2",
   "metadata": {},
   "source": [
    "The above code utilizes a 'for' loop to iterate over the list [3, 2, 1, 0] and print each value."
   ]
  },
  {
   "cell_type": "markdown",
   "id": "905d5eb1-f2a5-4adf-b7ff-afd42ab21f3f",
   "metadata": {},
   "source": [
    "6.2 Assign the value 7 to the variable guess_me, and the value 1 to the variable number. Write a while loop that compares number with guess_me. Print 'too low' if number is less than guess me. If number equals guess_me, print 'found it!' and then exit the loop. If number is greater than guess_me, print 'oops' and then exit the loop. Increment number at the end of the loop."
   ]
  },
  {
   "cell_type": "code",
   "execution_count": 4,
   "id": "8c43dcaa-02a3-41b8-b000-3dcbb084eb83",
   "metadata": {},
   "outputs": [
    {
     "name": "stdout",
     "output_type": "stream",
     "text": [
      "too low\n",
      "too low\n",
      "too low\n",
      "too low\n",
      "too low\n",
      "too low\n",
      "found it!\n"
     ]
    }
   ],
   "source": [
    "# Assigning values to variables\n",
    "guess_me = 7\n",
    "number = 1\n",
    "\n",
    "# While loop to compare number with guess_me\n",
    "while number <= guess_me:\n",
    "    if number < guess_me:\n",
    "        print('too low')\n",
    "    elif number == guess_me:\n",
    "        print('found it!')\n",
    "        break\n",
    "    else:\n",
    "        print('oops')\n",
    "        break\n",
    "    number += 1"
   ]
  },
  {
   "cell_type": "markdown",
   "id": "bf8d4da0-32ad-4075-817c-3e747994d2d6",
   "metadata": {},
   "source": [
    "The above code assigns values to the variables 'guess_me' and 'number', then utilizes a 'while' loop to compare 'number' with 'guess_me' and prints different messages based on the comparison."
   ]
  },
  {
   "cell_type": "markdown",
   "id": "6e47bf3e-0fa2-4bac-a002-0bba826ca945",
   "metadata": {},
   "source": [
    "6.3 Assign the value 5 to the variable guess_me. Use a for loop to iterate a variable called number over range(10). If number is less than guess_me, print 'too low'. If it equals guess_me, print found it! and then break out of the for loop. If number is greater than guess_me, print 'oops' and then exit the loop.  "
   ]
  },
  {
   "cell_type": "code",
   "execution_count": 5,
   "id": "a17905af-29d8-4a4a-90bb-79add6fb042a",
   "metadata": {},
   "outputs": [
    {
     "name": "stdout",
     "output_type": "stream",
     "text": [
      "too low\n",
      "too low\n",
      "too low\n",
      "too low\n",
      "too low\n",
      "found it!\n"
     ]
    }
   ],
   "source": [
    "# Assigning a value to the variable guess_me\n",
    "guess_me = 5\n",
    "\n",
    "# Using a for loop to iterate over range(10)\n",
    "for number in range(10):\n",
    "    if number < guess_me:\n",
    "        print('too low')\n",
    "    elif number == guess_me:\n",
    "        print('found it!')\n",
    "        break\n",
    "    else:\n",
    "        print('oops')\n",
    "        break"
   ]
  },
  {
   "cell_type": "markdown",
   "id": "a12d87eb-c8ab-47ac-8a3f-387dd64888b1",
   "metadata": {},
   "source": [
    "The above code assigns a value to the variable 'guess_me' and then uses a 'for' loop to iterate over the range from 0 to 9, printing different messages based on the comparison with 'guess_me'. "
   ]
  }
 ],
 "metadata": {
  "kernelspec": {
   "display_name": "Python 3 (ipykernel)",
   "language": "python",
   "name": "python3"
  },
  "language_info": {
   "codemirror_mode": {
    "name": "ipython",
    "version": 3
   },
   "file_extension": ".py",
   "mimetype": "text/x-python",
   "name": "python",
   "nbconvert_exporter": "python",
   "pygments_lexer": "ipython3",
   "version": "3.11.7"
  }
 },
 "nbformat": 4,
 "nbformat_minor": 5
}
