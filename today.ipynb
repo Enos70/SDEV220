{
 "cells": [
  {
   "cell_type": "markdown",
   "id": "d806da33-b684-402e-b344-3ec6c68fc701",
   "metadata": {},
   "source": [
    "# M06 Programming Assignment -Concurrency in Python\n",
    "## Firisiya Chiomadzi\n",
    "## today.ipynb\n",
    "## 04/23/2024"
   ]
  },
  {
   "cell_type": "markdown",
   "id": "6d94f92f-9c02-42f5-9985-ee007555578f",
   "metadata": {},
   "source": [
    "### 13.1 Write the current date as a string to the text file today.txt."
   ]
  },
  {
   "cell_type": "code",
   "execution_count": 14,
   "id": "72bf8cbf-0646-4d7b-bef7-b9d597592c96",
   "metadata": {},
   "outputs": [
    {
     "name": "stdout",
     "output_type": "stream",
     "text": [
      "File 'today.txt' has been created and the current date has been written into it.\n"
     ]
    }
   ],
   "source": [
    "from datetime import date\n",
    "\n",
    "# Get the current date\n",
    "current_date = date.today()\n",
    "\n",
    "# Convert the date to a string\n",
    "date_string = str(current_date)\n",
    "\n",
    "# Write the date string to today.txt\n",
    "with open('today.txt', 'w') as file:\n",
    "    file.write(date_string)\n",
    "\n",
    "# Confirming the file creation\n",
    "print(\"File 'today.txt' has been created and the current date has been written into it.\")"
   ]
  },
  {
   "cell_type": "markdown",
   "id": "5da7288a-7ca6-4546-8de1-a3fae3cb19f1",
   "metadata": {},
   "source": [
    "### 13.2 Read the text file today.txt into the string today_string."
   ]
  },
  {
   "cell_type": "code",
   "execution_count": 15,
   "id": "714f8d5a-d68b-4bdd-9416-c06115458fde",
   "metadata": {},
   "outputs": [
    {
     "name": "stdout",
     "output_type": "stream",
     "text": [
      "2024-04-23\n"
     ]
    }
   ],
   "source": [
    "# Read the contents of today.txt into a string\n",
    "with open('today.txt', 'r') as file:\n",
    "    today_string = file.read()\n",
    "\n",
    "# Print the contents of today_string\n",
    "print(today_string)"
   ]
  },
  {
   "cell_type": "markdown",
   "id": "015cc1b5-2186-4032-b846-465f6dcd9d90",
   "metadata": {},
   "source": [
    "### 13.3 Parse the date from today_string."
   ]
  },
  {
   "cell_type": "code",
   "execution_count": 16,
   "id": "3c7b5522-bbcf-44eb-8887-9a90fa6a952c",
   "metadata": {},
   "outputs": [
    {
     "name": "stdout",
     "output_type": "stream",
     "text": [
      "2024-04-23 00:00:00\n"
     ]
    }
   ],
   "source": [
    "from datetime import datetime\n",
    "\n",
    "# Parse the date from today_string\n",
    "parsed_date = datetime.strptime(today_string, '%Y-%m-%d')\n",
    "\n",
    "# Print the parsed date\n",
    "print(parsed_date)"
   ]
  },
  {
   "cell_type": "markdown",
   "id": "4261816f-eecd-4879-bbc0-aa171fdaee94",
   "metadata": {},
   "source": [
    "### 5.1 Use multiprocessing to create three separate processes. Make each one wait a random number of seconds between zero and one, print the current time, and then exit."
   ]
  },
  {
   "cell_type": "code",
   "execution_count": null,
   "id": "eaef325c-541c-4001-b4bd-7fe6742bf2c6",
   "metadata": {},
   "outputs": [],
   "source": [
    "import multiprocessing\n",
    "import random\n",
    "import time\n",
    "from datetime import datetime\n",
    "\n",
    "def print_current_time():\n",
    "    # Generate a random sleep time between 0 and 1 second\n",
    "    sleep_time = random.random()\n",
    "    time.sleep(sleep_time)\n",
    "    # Print the current time\n",
    "    print(\"Process ID:\", multiprocessing.current_process().pid, \"Current Time:\", datetime.now().time())\n",
    "\n",
    "if __name__ == '__main__':\n",
    "    # Create three separate processes\n",
    "    processes = []\n",
    "    for _ in range(3):\n",
    "        process = multiprocessing.Process(target=print_current_time)\n",
    "        processes.append(process)\n",
    "        process.start()\n",
    "        print(\"Process started with PID:\", process.pid)\n",
    "\n",
    "    # Wait for all processes to finish\n",
    "    for process in processes:\n",
    "        process.join()"
   ]
  },
  {
   "cell_type": "code",
   "execution_count": null,
   "id": "6bb2503e-2e92-4a17-9f10-52dd05c490cd",
   "metadata": {},
   "outputs": [],
   "source": []
  }
 ],
 "metadata": {
  "kernelspec": {
   "display_name": "Python 3 (ipykernel)",
   "language": "python",
   "name": "python3"
  },
  "language_info": {
   "codemirror_mode": {
    "name": "ipython",
    "version": 3
   },
   "file_extension": ".py",
   "mimetype": "text/x-python",
   "name": "python",
   "nbconvert_exporter": "python",
   "pygments_lexer": "ipython3",
   "version": "3.11.7"
  }
 },
 "nbformat": 4,
 "nbformat_minor": 5
}
