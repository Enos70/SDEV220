{
 "cells": [
  {
   "cell_type": "markdown",
   "id": "f37c193d-e061-49ce-9d27-b495194ea6d5",
   "metadata": {},
   "source": [
    "# M03 Programming Assignment - Lists and Functions\n",
    "## Firisiya Chiomadzi\n",
    "## 04/04/2024\n",
    "## Exercises 7.4, 7.5, 7.6, 7.7, 9.1, and 9.2."
   ]
  },
  {
   "cell_type": "code",
   "execution_count": 1,
   "id": "6b1620ff-a115-4454-a9fc-7ab5fd5aef27",
   "metadata": {},
   "outputs": [],
   "source": [
    "# 7.4 Make a list called things with these three strings as elements: \"mozzarella\", \"cinderella\", \"salmonella\".\n",
    "things = [\"mozzarella\", \"cinderella\", \"salmonella\"]"
   ]
  },
  {
   "cell_type": "code",
   "execution_count": 3,
   "id": "3cb1a5ee-c670-4928-be96-f95d57cafa8f",
   "metadata": {},
   "outputs": [
    {
     "name": "stdout",
     "output_type": "stream",
     "text": [
      "['mozzarella', 'Cinderella', 'salmonella']\n"
     ]
    }
   ],
   "source": [
    "# 7.5 Capitalize the element in things that refer to a person and then print the list. Did it change the element in the list?\n",
    "for i in range(len(things)):\n",
    "    if things[i] == \"cinderella\":\n",
    "        things[i] = things[i].capitalize()\n",
    "print(things)"
   ]
  },
  {
   "cell_type": "code",
   "execution_count": 4,
   "id": "b4a7d09e-0d68-4b72-91a7-a9dd4488e9a9",
   "metadata": {},
   "outputs": [
    {
     "name": "stdout",
     "output_type": "stream",
     "text": [
      "['MOZZARELLA', 'Cinderella', 'salmonella']\n"
     ]
    }
   ],
   "source": [
    "# 7.6 Make the cheesy element of things all uppercase and then print the list.\n",
    "for i in range(len(things)):\n",
    "    if \"mozzarella\" in things[i]:\n",
    "        things[i] = things[i].upper()\n",
    "print(things)"
   ]
  },
  {
   "cell_type": "code",
   "execution_count": 5,
   "id": "45a66435-71f2-49c1-819e-da651dbed7c9",
   "metadata": {},
   "outputs": [
    {
     "name": "stdout",
     "output_type": "stream",
     "text": [
      "['MOZZARELLA', 'Cinderella']\n"
     ]
    }
   ],
   "source": [
    "# 7.7 Delete the disease element from things, collect your Nobel Prize, and print the list.\n",
    "things.remove(\"salmonella\")\n",
    "print(things)\n",
    "# Expected result: ['MOZZARELLA', 'Cinderella']"
   ]
  },
  {
   "cell_type": "code",
   "execution_count": 6,
   "id": "5b8492db-d8dd-40e5-8057-761903f51600",
   "metadata": {},
   "outputs": [],
   "source": [
    "# 9.1 Define a function called good() that returns the following list: ['Harry', 'Ron', 'Hermione'].\n",
    "def good():\n",
    "    return ['Harry', 'Ron', 'Hermione']"
   ]
  },
  {
   "cell_type": "code",
   "execution_count": 7,
   "id": "7e897e1d-aa10-45f6-9be6-ce2251541881",
   "metadata": {},
   "outputs": [
    {
     "name": "stdout",
     "output_type": "stream",
     "text": [
      "['Harry', 'Ron', 'Hermione']\n"
     ]
    }
   ],
   "source": [
    "# Call the function and print the result\n",
    "print(good())"
   ]
  },
  {
   "cell_type": "code",
   "execution_count": 8,
   "id": "6a00826d-e7e4-46ba-af66-a5171c5459a9",
   "metadata": {},
   "outputs": [],
   "source": [
    "# 9.2 Define a generator function called get_odds() that returns the odd numbers from range(10). Use a for loop to find and print the third value returned.\n",
    "def get_odds():\n",
    "    for i in range(1, 10, 2):\n",
    "        yield i"
   ]
  },
  {
   "cell_type": "code",
   "execution_count": 9,
   "id": "acdd9a26-4ebe-4aca-bd58-7327a124960a",
   "metadata": {},
   "outputs": [
    {
     "name": "stdout",
     "output_type": "stream",
     "text": [
      "5\n"
     ]
    }
   ],
   "source": [
    "count = 0\n",
    "for num in get_odds():\n",
    "    count += 1\n",
    "    if count == 3:\n",
    "        print(num)\n",
    "        break"
   ]
  }
 ],
 "metadata": {
  "kernelspec": {
   "display_name": "Python 3 (ipykernel)",
   "language": "python",
   "name": "python3"
  },
  "language_info": {
   "codemirror_mode": {
    "name": "ipython",
    "version": 3
   },
   "file_extension": ".py",
   "mimetype": "text/x-python",
   "name": "python",
   "nbconvert_exporter": "python",
   "pygments_lexer": "ipython3",
   "version": "3.11.7"
  }
 },
 "nbformat": 4,
 "nbformat_minor": 5
}
