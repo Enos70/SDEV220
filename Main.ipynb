{
 "cells": [
  {
   "cell_type": "markdown",
   "id": "51d803da-f630-4d16-af27-cda8665ae085",
   "metadata": {},
   "source": [
    "# M03 Lab - Case Study: Lists, Functions, and Classes\n",
    "## Name: Firisiya Chiomadzi\n",
    "## File Name: Main.ipynb File\n",
    "## Date: 04/04/2024\n",
    "### Description:"
   ]
  },
  {
   "cell_type": "markdown",
   "id": "0c18ca41-484e-4e11-8f2e-0d010ddc5880",
   "metadata": {},
   "source": [
    "A super class called \"Vehicle\", which contains an attribute for a car type, and a class \"Automobile\", which will inherit the attributes from \"Vehicle\" and also contain the year, make, model, doors (2 or 4) and the roof (solid or sun roof).a."
   ]
  },
  {
   "cell_type": "markdown",
   "id": "5996fe41-09e6-495f-8cca-714172749606",
   "metadata": {},
   "source": [
    "An app that will accept user input for a car, store \"car\" into the vehicle type in my Vehicle super class, ask the user for the year, make, model, doors, and type of roof and store and output the data."
   ]
  },
  {
   "cell_type": "code",
   "execution_count": 1,
   "id": "f1105594-78d3-4a6f-b75d-b25314a34531",
   "metadata": {},
   "outputs": [],
   "source": [
    "# Define the Vehicle class\n",
    "class Vehicle:\n",
    "    def __init__(self, vehicle_type):\n",
    "        self.vehicle_type = vehicle_type"
   ]
  },
  {
   "cell_type": "code",
   "execution_count": 2,
   "id": "6a6ce3bb-50b1-49c9-a580-7a2fd3bc2b9e",
   "metadata": {},
   "outputs": [],
   "source": [
    "# Define the Automobile class inheriting from Vehicle\n",
    "class Automobile(Vehicle):\n",
    "    def __init__(self, vehicle_type, year, make, model, doors, roof):\n",
    "        super().__init__(vehicle_type)\n",
    "        self.year = year\n",
    "        self.make = make\n",
    "        self.model = model\n",
    "        self.doors = doors\n",
    "        self.roof = roof"
   ]
  },
  {
   "cell_type": "code",
   "execution_count": 3,
   "id": "793d8b17-96da-4f0b-ad98-13b1ae8953b7",
   "metadata": {},
   "outputs": [],
   "source": [
    "# Function to accept user input and create a car object\n",
    "def create_car():\n",
    "    print(\"Please enter the details for your car:\")\n",
    "    year = input(\"Year: \")\n",
    "    make = input(\"Make: \")\n",
    "    model = input(\"Model: \")\n",
    "    doors = input(\"Number of doors (2 or 4): \")\n",
    "    roof = input(\"Type of roof (solid or sunroof): \")\n",
    "    car = Automobile(\"car\", year, make, model, doors, roof)\n",
    "    return car"
   ]
  },
  {
   "cell_type": "code",
   "execution_count": 5,
   "id": "6b5f557e-60f0-4ab0-957b-7dd49d8e7401",
   "metadata": {},
   "outputs": [],
   "source": [
    "# Function to display car details\n",
    "def display_car(car):\n",
    "    print(\"\\nVehicle type:\", car.vehicle_type)\n",
    "    print(\"Year:\", car.year)\n",
    "    print(\"Make:\", car.make)\n",
    "    print(\"Model:\", car.model)\n",
    "    print(\"Number of doors:\", car.doors)\n",
    "    print(\"Type of roof:\", car.roof)"
   ]
  },
  {
   "cell_type": "code",
   "execution_count": 6,
   "id": "7e4466d7-fc7a-488d-a346-e9e0ceeffb9e",
   "metadata": {},
   "outputs": [
    {
     "name": "stdout",
     "output_type": "stream",
     "text": [
      "Please enter the details for your car:\n"
     ]
    },
    {
     "name": "stdin",
     "output_type": "stream",
     "text": [
      "Year:  2024\n",
      "Make:  Toyota\n",
      "Model:  Rav 4\n",
      "Number of doors (2 or 4):  4\n",
      "Type of roof (solid or sunroof):  sunroof\n"
     ]
    },
    {
     "name": "stdout",
     "output_type": "stream",
     "text": [
      "\n",
      "Vehicle type: car\n",
      "Year: 2024\n",
      "Make: Toyota\n",
      "Model: Rav 4\n",
      "Number of doors: 4\n",
      "Type of roof: sunroof\n"
     ]
    }
   ],
   "source": [
    "# Main function\n",
    "def main():\n",
    "    car = create_car()\n",
    "    display_car(car)\n",
    "\n",
    "if __name__ == \"__main__\":\n",
    "    main()"
   ]
  }
 ],
 "metadata": {
  "kernelspec": {
   "display_name": "Python 3 (ipykernel)",
   "language": "python",
   "name": "python3"
  },
  "language_info": {
   "codemirror_mode": {
    "name": "ipython",
    "version": 3
   },
   "file_extension": ".py",
   "mimetype": "text/x-python",
   "name": "python",
   "nbconvert_exporter": "python",
   "pygments_lexer": "ipython3",
   "version": "3.11.7"
  }
 },
 "nbformat": 4,
 "nbformat_minor": 5
}
