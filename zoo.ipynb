{
 "cells": [
  {
   "cell_type": "markdown",
   "id": "35244674-f6ef-47fe-a544-c26bfecd6828",
   "metadata": {},
   "source": [
    "# M04 Assignment: Modules and Databases\n",
    "## Firisiya Chiomadzi\n",
    "## 04/20/2024"
   ]
  },
  {
   "cell_type": "markdown",
   "id": "97ebca42-0ec3-42fe-a3b3-01c3b44c613e",
   "metadata": {},
   "source": [
    "11.1 Creating the zoo.py file and defining the function:"
   ]
  },
  {
   "cell_type": "code",
   "execution_count": 1,
   "id": "e90f2481-099c-4737-b080-d60617727cb8",
   "metadata": {},
   "outputs": [
    {
     "name": "stdout",
     "output_type": "stream",
     "text": [
      "Writing zoo.py\n"
     ]
    }
   ],
   "source": [
    "%%writefile zoo.py\n",
    "def hours():\n",
    "    print('Open 9-5 daily')"
   ]
  },
  {
   "cell_type": "markdown",
   "id": "b39aa0cf-75c1-4fe1-9982-a6471f582ae6",
   "metadata": {},
   "source": [
    "Using the interactive interpreter to import the zoo module and call its hours() function:"
   ]
  },
  {
   "cell_type": "code",
   "execution_count": 2,
   "id": "7a99d1a1-bc60-43a7-8e97-ba6ec8264dbd",
   "metadata": {},
   "outputs": [
    {
     "name": "stdout",
     "output_type": "stream",
     "text": [
      "Open 9-5 daily\n"
     ]
    }
   ],
   "source": [
    "# Using the interactive interpreter\n",
    "import zoo\n",
    "\n",
    "# Calling the hours() function from zoo module\n",
    "zoo.hours()"
   ]
  },
  {
   "cell_type": "markdown",
   "id": "2374c257-3ac3-45c8-a15f-d417034d4529",
   "metadata": {},
   "source": [
    "11.2 Importing the zoo module as menagerie and calling its hours() function:"
   ]
  },
  {
   "cell_type": "code",
   "execution_count": 3,
   "id": "e6c25535-46b6-4f22-919c-e9adc1302110",
   "metadata": {},
   "outputs": [
    {
     "name": "stdout",
     "output_type": "stream",
     "text": [
      "Open 9-5 daily\n"
     ]
    }
   ],
   "source": [
    "# Using the interactive interpreter\n",
    "import zoo as menagerie\n",
    "\n",
    "# Calling the hours() function from menagerie module (which is zoo module)\n",
    "menagerie.hours()"
   ]
  },
  {
   "cell_type": "markdown",
   "id": "8e61f9e5-b0e4-44c0-a020-238c62d99c8d",
   "metadata": {},
   "source": [
    "**Exercise 16.8 Version 1**"
   ]
  },
  {
   "cell_type": "markdown",
   "id": "5e4d8a7f-e59c-4ffe-b534-5f175dacdb72",
   "metadata": {},
   "source": [
    "16.4: Creating SQLite Database and Table"
   ]
  },
  {
   "cell_type": "code",
   "execution_count": 2,
   "id": "67113654-ad6a-456c-b2ad-a9faaa2d9ad9",
   "metadata": {},
   "outputs": [],
   "source": [
    "import sqlite3\n",
    "\n",
    "# Connect to SQLite database (or create it if it doesn't exist)\n",
    "conn = sqlite3.connect('books.db')\n",
    "\n",
    "# Create a cursor object to execute SQL commands\n",
    "cursor = conn.cursor()\n",
    "\n",
    "# Define SQL command to create the table\n",
    "create_table_query = '''\n",
    "CREATE TABLE IF NOT EXISTS books (\n",
    "    title TEXT,\n",
    "    author TEXT,\n",
    "    year INTEGER\n",
    ")\n",
    "'''\n",
    "\n",
    "# Execute SQL command to create the table\n",
    "cursor.execute(create_table_query)\n",
    "\n",
    "# Commit changes and close connection\n",
    "conn.commit()\n",
    "conn.close()"
   ]
  },
  {
   "cell_type": "markdown",
   "id": "4de91680-6ddc-43c7-8b0e-1e857e6605ce",
   "metadata": {},
   "source": [
    "16.6: Selecting and Printing Title Column in Alphabetical Order"
   ]
  },
  {
   "cell_type": "code",
   "execution_count": 3,
   "id": "68d2275c-e273-46ec-b966-ebf117bc2dc6",
   "metadata": {},
   "outputs": [],
   "source": [
    "import sqlite3\n",
    "\n",
    "# Connect to SQLite database\n",
    "conn = sqlite3.connect('books.db')\n",
    "\n",
    "# Create a cursor object\n",
    "cursor = conn.cursor()\n",
    "\n",
    "# Define SQL query to select title column in alphabetical order\n",
    "select_query = '''\n",
    "SELECT title\n",
    "FROM books\n",
    "ORDER BY title\n",
    "'''\n",
    "\n",
    "# Execute query and fetch results\n",
    "cursor.execute(select_query)\n",
    "results = cursor.fetchall()\n",
    "\n",
    "# Print results\n",
    "for row in results:\n",
    "    print(row[0])\n",
    "\n",
    "# Close connection\n",
    "conn.close()"
   ]
  },
  {
   "cell_type": "markdown",
   "id": "46e35cb7-f2fe-4797-89d3-fe091133299d",
   "metadata": {},
   "source": [
    "16.8: Using SQLAlchemy to Connect to Database and Selecting Title Column"
   ]
  },
  {
   "cell_type": "code",
   "execution_count": 6,
   "id": "6f876a8d-8085-4013-b4eb-dfef15c9d76b",
   "metadata": {},
   "outputs": [
    {
     "name": "stdout",
     "output_type": "stream",
     "text": [
      "Requirement already satisfied: sqlalchemy in c:\\users\\wellington\\anaconda3\\lib\\site-packages (2.0.25)\n",
      "Requirement already satisfied: typing-extensions>=4.6.0 in c:\\users\\wellington\\anaconda3\\lib\\site-packages (from sqlalchemy) (4.9.0)\n",
      "Requirement already satisfied: greenlet!=0.4.17 in c:\\users\\wellington\\anaconda3\\lib\\site-packages (from sqlalchemy) (3.0.1)\n"
     ]
    }
   ],
   "source": [
    "# Install SQLAlchemy\n",
    "!pip install sqlalchemy"
   ]
  },
  {
   "cell_type": "code",
   "execution_count": 7,
   "id": "772bc467-417b-4fc3-bd99-9332544a0a43",
   "metadata": {},
   "outputs": [],
   "source": [
    "# import sqlalchemy\n",
    "import sqlalchemy"
   ]
  },
  {
   "cell_type": "code",
   "execution_count": 8,
   "id": "8aabcc6e-0a62-4cb6-bc9e-43146708dc28",
   "metadata": {},
   "outputs": [],
   "source": [
    "#Importing the required moles\n",
    "from sqlalchemy import create_engine, select, Column, Integer, String, MetaData, Table"
   ]
  },
  {
   "cell_type": "code",
   "execution_count": 9,
   "id": "ee5d2aa0-8921-4fb5-a729-6ec51e1caf3e",
   "metadata": {},
   "outputs": [],
   "source": [
    "# Defining the database connection\n",
    "engine = create_engine('sqlite:///C:/Users/WELLINGTON/SDEV220/books.db', echo=True)"
   ]
  },
  {
   "cell_type": "code",
   "execution_count": 10,
   "id": "7aef2e8b-9a50-4941-ab99-fbd05c160e55",
   "metadata": {},
   "outputs": [
    {
     "name": "stdout",
     "output_type": "stream",
     "text": [
      "2024-04-25 12:51:51,410 INFO sqlalchemy.engine.Engine BEGIN (implicit)\n",
      "2024-04-25 12:51:51,412 INFO sqlalchemy.engine.Engine PRAGMA main.table_info(\"books\")\n",
      "2024-04-25 12:51:51,415 INFO sqlalchemy.engine.Engine [raw sql] ()\n",
      "2024-04-25 12:51:51,418 INFO sqlalchemy.engine.Engine COMMIT\n"
     ]
    }
   ],
   "source": [
    "# Defining the metadata and creating a table\n",
    "metadata = MetaData()\n",
    "\n",
    "# Defining the table\n",
    "books_table = Table(\n",
    "    'books',\n",
    "    metadata,\n",
    "    Column('title', String),\n",
    "    Column('author', String),\n",
    "    Column('year', Integer)  # Adding the 'year' column\n",
    ")\n",
    "\n",
    "# Creating the table if it doesn't exist\n",
    "metadata.create_all(engine)"
   ]
  },
  {
   "cell_type": "code",
   "execution_count": 11,
   "id": "bc74b690-a602-4d34-ace0-7f0e00e08e1e",
   "metadata": {},
   "outputs": [
    {
     "name": "stdout",
     "output_type": "stream",
     "text": [
      "2024-04-25 12:52:11,548 INFO sqlalchemy.engine.Engine BEGIN (implicit)\n",
      "2024-04-25 12:52:11,550 INFO sqlalchemy.engine.Engine INSERT INTO books (title, author) VALUES (?, ?)\n",
      "2024-04-25 12:52:11,553 INFO sqlalchemy.engine.Engine [generated in 0.00456s] [('Book 1', 'Author 1'), ('Book 2', 'Author 2'), ('Book 3', 'Author 3')]\n",
      "2024-04-25 12:52:11,558 INFO sqlalchemy.engine.Engine ROLLBACK\n"
     ]
    }
   ],
   "source": [
    "# Start a session\n",
    "with engine.connect() as conn:\n",
    "    # Insert data into the table\n",
    "    conn.execute(books_table.insert(), [\n",
    "        {'title': 'Book 1', 'author': 'Author 1'},\n",
    "        {'title': 'Book 2', 'author': 'Author 2'},\n",
    "        {'title': 'Book 3', 'author': 'Author 3'}\n",
    "    ])"
   ]
  },
  {
   "cell_type": "markdown",
   "id": "b5b169ae-2919-436c-8298-722656fd5e31",
   "metadata": {},
   "source": [
    "**16.8 Version 2**"
   ]
  },
  {
   "cell_type": "code",
   "execution_count": 16,
   "id": "12409f08-2304-4b3a-b527-cda1f503b901",
   "metadata": {},
   "outputs": [],
   "source": [
    "import sqlite3\n",
    "\n",
    "# Connect to SQLite database (or create it if it doesn't exist)\n",
    "conn = sqlite3.connect('books.db')\n",
    "\n",
    "# Create a cursor object to execute SQL commands\n",
    "cursor = conn.cursor()\n",
    "\n",
    "# Define SQL command to create the table\n",
    "create_table_query = '''\n",
    "CREATE TABLE IF NOT EXISTS books (\n",
    "    title TEXT,\n",
    "    author TEXT,\n",
    "    year INTEGER\n",
    ")\n",
    "'''\n",
    "\n",
    "# Execute SQL command to create the table\n",
    "cursor.execute(create_table_query)\n",
    "\n",
    "# Commit changes and close connection\n",
    "conn.commit()\n",
    "conn.close()"
   ]
  },
  {
   "cell_type": "code",
   "execution_count": 17,
   "id": "bd12be35-20fb-4b1c-9f11-56583f562aff",
   "metadata": {},
   "outputs": [],
   "source": [
    "import sqlite3\n",
    "\n",
    "# Connect to SQLite database\n",
    "conn = sqlite3.connect('books.db')\n",
    "\n",
    "# Create a cursor object\n",
    "cursor = conn.cursor()\n",
    "\n",
    "# Define SQL query to select title column in alphabetical order\n",
    "select_query = '''\n",
    "SELECT title\n",
    "FROM books\n",
    "ORDER BY title\n",
    "'''\n",
    "\n",
    "# Execute query and fetch results\n",
    "cursor.execute(select_query)\n",
    "results = cursor.fetchall()\n",
    "\n",
    "# Print results\n",
    "for row in results:\n",
    "    print(row[0])\n",
    "\n",
    "# Close connection\n",
    "conn.close()"
   ]
  },
  {
   "cell_type": "code",
   "execution_count": 18,
   "id": "a63d9133-a1cd-4fca-bcda-4c34842e3821",
   "metadata": {},
   "outputs": [
    {
     "name": "stdout",
     "output_type": "stream",
     "text": [
      "2024-04-25 13:11:09,924 INFO sqlalchemy.engine.Engine BEGIN (implicit)\n",
      "2024-04-25 13:11:09,925 INFO sqlalchemy.engine.Engine SELECT name FROM sqlite_master WHERE type='table' AND name NOT LIKE 'sqlite~_%' ESCAPE '~' ORDER BY name\n",
      "2024-04-25 13:11:09,926 INFO sqlalchemy.engine.Engine [raw sql] ()\n",
      "2024-04-25 13:11:09,934 INFO sqlalchemy.engine.Engine SELECT name FROM sqlite_temp_master WHERE type='table' AND name NOT LIKE 'sqlite~_%' ESCAPE '~' ORDER BY name\n",
      "2024-04-25 13:11:09,935 INFO sqlalchemy.engine.Engine [raw sql] ()\n",
      "2024-04-25 13:11:09,938 INFO sqlalchemy.engine.Engine PRAGMA main.table_xinfo(\"books\")\n",
      "2024-04-25 13:11:09,940 INFO sqlalchemy.engine.Engine [raw sql] ()\n",
      "2024-04-25 13:11:09,943 INFO sqlalchemy.engine.Engine SELECT sql FROM  (SELECT * FROM sqlite_master UNION ALL   SELECT * FROM sqlite_temp_master) WHERE name = ? AND type in ('table', 'view')\n",
      "2024-04-25 13:11:09,944 INFO sqlalchemy.engine.Engine [raw sql] ('books',)\n",
      "2024-04-25 13:11:09,947 INFO sqlalchemy.engine.Engine PRAGMA main.foreign_key_list(\"books\")\n",
      "2024-04-25 13:11:09,948 INFO sqlalchemy.engine.Engine [raw sql] ()\n",
      "2024-04-25 13:11:09,949 INFO sqlalchemy.engine.Engine PRAGMA temp.foreign_key_list(\"books\")\n",
      "2024-04-25 13:11:09,951 INFO sqlalchemy.engine.Engine [raw sql] ()\n",
      "2024-04-25 13:11:09,952 INFO sqlalchemy.engine.Engine SELECT sql FROM  (SELECT * FROM sqlite_master UNION ALL   SELECT * FROM sqlite_temp_master) WHERE name = ? AND type in ('table', 'view')\n",
      "2024-04-25 13:11:09,953 INFO sqlalchemy.engine.Engine [raw sql] ('books',)\n",
      "2024-04-25 13:11:09,961 INFO sqlalchemy.engine.Engine PRAGMA main.index_list(\"books\")\n",
      "2024-04-25 13:11:09,962 INFO sqlalchemy.engine.Engine [raw sql] ()\n",
      "2024-04-25 13:11:09,965 INFO sqlalchemy.engine.Engine PRAGMA temp.index_list(\"books\")\n",
      "2024-04-25 13:11:09,967 INFO sqlalchemy.engine.Engine [raw sql] ()\n",
      "2024-04-25 13:11:09,968 INFO sqlalchemy.engine.Engine PRAGMA main.table_info(\"books\")\n",
      "2024-04-25 13:11:09,970 INFO sqlalchemy.engine.Engine [raw sql] ()\n",
      "2024-04-25 13:11:09,972 INFO sqlalchemy.engine.Engine PRAGMA main.index_list(\"books\")\n",
      "2024-04-25 13:11:09,973 INFO sqlalchemy.engine.Engine [raw sql] ()\n",
      "2024-04-25 13:11:09,975 INFO sqlalchemy.engine.Engine PRAGMA temp.index_list(\"books\")\n",
      "2024-04-25 13:11:09,977 INFO sqlalchemy.engine.Engine [raw sql] ()\n",
      "2024-04-25 13:11:09,979 INFO sqlalchemy.engine.Engine PRAGMA main.table_info(\"books\")\n",
      "2024-04-25 13:11:09,980 INFO sqlalchemy.engine.Engine [raw sql] ()\n",
      "2024-04-25 13:11:09,984 INFO sqlalchemy.engine.Engine SELECT sql FROM  (SELECT * FROM sqlite_master UNION ALL   SELECT * FROM sqlite_temp_master) WHERE name = ? AND type in ('table', 'view')\n",
      "2024-04-25 13:11:09,985 INFO sqlalchemy.engine.Engine [raw sql] ('books',)\n",
      "2024-04-25 13:11:09,994 INFO sqlalchemy.engine.Engine ROLLBACK\n"
     ]
    },
    {
     "ename": "ArgumentError",
     "evalue": "Column expression, FROM clause, or other columns clause element expected, got [Column('title', TEXT(), table=<books>)]. Did you mean to say select(Column('title', TEXT(), table=<books>))?",
     "output_type": "error",
     "traceback": [
      "\u001b[1;31m---------------------------------------------------------------------------\u001b[0m",
      "\u001b[1;31mArgumentError\u001b[0m                             Traceback (most recent call last)",
      "Cell \u001b[1;32mIn[18], line 17\u001b[0m\n\u001b[0;32m     14\u001b[0m conn \u001b[38;5;241m=\u001b[39m engine\u001b[38;5;241m.\u001b[39mconnect()\n\u001b[0;32m     16\u001b[0m \u001b[38;5;66;03m# Define a select statement\u001b[39;00m\n\u001b[1;32m---> 17\u001b[0m select_statement \u001b[38;5;241m=\u001b[39m select([books_table\u001b[38;5;241m.\u001b[39mcolumns\u001b[38;5;241m.\u001b[39mtitle])\u001b[38;5;241m.\u001b[39morder_by(books_table\u001b[38;5;241m.\u001b[39mcolumns\u001b[38;5;241m.\u001b[39mtitle)\n\u001b[0;32m     19\u001b[0m \u001b[38;5;66;03m# Execute the statement and fetch all results\u001b[39;00m\n\u001b[0;32m     20\u001b[0m results \u001b[38;5;241m=\u001b[39m conn\u001b[38;5;241m.\u001b[39mexecute(select_statement)\u001b[38;5;241m.\u001b[39mfetchall()\n",
      "File \u001b[1;32m~\\anaconda3\\Lib\\site-packages\\sqlalchemy\\sql\\_selectable_constructors.py:489\u001b[0m, in \u001b[0;36mselect\u001b[1;34m(*entities, **__kw)\u001b[0m\n\u001b[0;32m    487\u001b[0m \u001b[38;5;28;01mif\u001b[39;00m __kw:\n\u001b[0;32m    488\u001b[0m     \u001b[38;5;28;01mraise\u001b[39;00m _no_kw()\n\u001b[1;32m--> 489\u001b[0m \u001b[38;5;28;01mreturn\u001b[39;00m Select(\u001b[38;5;241m*\u001b[39mentities)\n",
      "File \u001b[1;32m~\\anaconda3\\Lib\\site-packages\\sqlalchemy\\sql\\selectable.py:5136\u001b[0m, in \u001b[0;36mSelect.__init__\u001b[1;34m(self, *entities)\u001b[0m\n\u001b[0;32m   5129\u001b[0m \u001b[38;5;28;01mdef\u001b[39;00m \u001b[38;5;21m__init__\u001b[39m(\u001b[38;5;28mself\u001b[39m, \u001b[38;5;241m*\u001b[39mentities: _ColumnsClauseArgument[Any]):\n\u001b[0;32m   5130\u001b[0m \u001b[38;5;250m    \u001b[39m\u001b[38;5;124mr\u001b[39m\u001b[38;5;124;03m\"\"\"Construct a new :class:`_expression.Select`.\u001b[39;00m\n\u001b[0;32m   5131\u001b[0m \n\u001b[0;32m   5132\u001b[0m \u001b[38;5;124;03m    The public constructor for :class:`_expression.Select` is the\u001b[39;00m\n\u001b[0;32m   5133\u001b[0m \u001b[38;5;124;03m    :func:`_sql.select` function.\u001b[39;00m\n\u001b[0;32m   5134\u001b[0m \n\u001b[0;32m   5135\u001b[0m \u001b[38;5;124;03m    \"\"\"\u001b[39;00m\n\u001b[1;32m-> 5136\u001b[0m     \u001b[38;5;28mself\u001b[39m\u001b[38;5;241m.\u001b[39m_raw_columns \u001b[38;5;241m=\u001b[39m [\n\u001b[0;32m   5137\u001b[0m         coercions\u001b[38;5;241m.\u001b[39mexpect(\n\u001b[0;32m   5138\u001b[0m             roles\u001b[38;5;241m.\u001b[39mColumnsClauseRole, ent, apply_propagate_attrs\u001b[38;5;241m=\u001b[39m\u001b[38;5;28mself\u001b[39m\n\u001b[0;32m   5139\u001b[0m         )\n\u001b[0;32m   5140\u001b[0m         \u001b[38;5;28;01mfor\u001b[39;00m ent \u001b[38;5;129;01min\u001b[39;00m entities\n\u001b[0;32m   5141\u001b[0m     ]\n\u001b[0;32m   5143\u001b[0m     GenerativeSelect\u001b[38;5;241m.\u001b[39m\u001b[38;5;21m__init__\u001b[39m(\u001b[38;5;28mself\u001b[39m)\n",
      "File \u001b[1;32m~\\anaconda3\\Lib\\site-packages\\sqlalchemy\\sql\\selectable.py:5137\u001b[0m, in \u001b[0;36m<listcomp>\u001b[1;34m(.0)\u001b[0m\n\u001b[0;32m   5129\u001b[0m \u001b[38;5;28;01mdef\u001b[39;00m \u001b[38;5;21m__init__\u001b[39m(\u001b[38;5;28mself\u001b[39m, \u001b[38;5;241m*\u001b[39mentities: _ColumnsClauseArgument[Any]):\n\u001b[0;32m   5130\u001b[0m \u001b[38;5;250m    \u001b[39m\u001b[38;5;124mr\u001b[39m\u001b[38;5;124;03m\"\"\"Construct a new :class:`_expression.Select`.\u001b[39;00m\n\u001b[0;32m   5131\u001b[0m \n\u001b[0;32m   5132\u001b[0m \u001b[38;5;124;03m    The public constructor for :class:`_expression.Select` is the\u001b[39;00m\n\u001b[0;32m   5133\u001b[0m \u001b[38;5;124;03m    :func:`_sql.select` function.\u001b[39;00m\n\u001b[0;32m   5134\u001b[0m \n\u001b[0;32m   5135\u001b[0m \u001b[38;5;124;03m    \"\"\"\u001b[39;00m\n\u001b[0;32m   5136\u001b[0m     \u001b[38;5;28mself\u001b[39m\u001b[38;5;241m.\u001b[39m_raw_columns \u001b[38;5;241m=\u001b[39m [\n\u001b[1;32m-> 5137\u001b[0m         coercions\u001b[38;5;241m.\u001b[39mexpect(\n\u001b[0;32m   5138\u001b[0m             roles\u001b[38;5;241m.\u001b[39mColumnsClauseRole, ent, apply_propagate_attrs\u001b[38;5;241m=\u001b[39m\u001b[38;5;28mself\u001b[39m\n\u001b[0;32m   5139\u001b[0m         )\n\u001b[0;32m   5140\u001b[0m         \u001b[38;5;28;01mfor\u001b[39;00m ent \u001b[38;5;129;01min\u001b[39;00m entities\n\u001b[0;32m   5141\u001b[0m     ]\n\u001b[0;32m   5143\u001b[0m     GenerativeSelect\u001b[38;5;241m.\u001b[39m\u001b[38;5;21m__init__\u001b[39m(\u001b[38;5;28mself\u001b[39m)\n",
      "File \u001b[1;32m~\\anaconda3\\Lib\\site-packages\\sqlalchemy\\sql\\coercions.py:413\u001b[0m, in \u001b[0;36mexpect\u001b[1;34m(role, element, apply_propagate_attrs, argname, post_inspect, disable_inspection, **kw)\u001b[0m\n\u001b[0;32m    410\u001b[0m                 impl\u001b[38;5;241m.\u001b[39m_raise_for_expected(original_element, argname)\n\u001b[0;32m    412\u001b[0m     \u001b[38;5;28;01mif\u001b[39;00m resolved \u001b[38;5;129;01mis\u001b[39;00m \u001b[38;5;28;01mNone\u001b[39;00m:\n\u001b[1;32m--> 413\u001b[0m         resolved \u001b[38;5;241m=\u001b[39m impl\u001b[38;5;241m.\u001b[39m_literal_coercion(\n\u001b[0;32m    414\u001b[0m             element, argname\u001b[38;5;241m=\u001b[39margname, \u001b[38;5;241m*\u001b[39m\u001b[38;5;241m*\u001b[39mkw\n\u001b[0;32m    415\u001b[0m         )\n\u001b[0;32m    416\u001b[0m \u001b[38;5;28;01melse\u001b[39;00m:\n\u001b[0;32m    417\u001b[0m     resolved \u001b[38;5;241m=\u001b[39m element\n",
      "File \u001b[1;32m~\\anaconda3\\Lib\\site-packages\\sqlalchemy\\sql\\coercions.py:651\u001b[0m, in \u001b[0;36m_CoerceLiterals._literal_coercion\u001b[1;34m(self, element, argname, **kw)\u001b[0m\n\u001b[0;32m    648\u001b[0m \u001b[38;5;28;01mif\u001b[39;00m \u001b[38;5;28mself\u001b[39m\u001b[38;5;241m.\u001b[39m_coerce_numerics \u001b[38;5;129;01mand\u001b[39;00m \u001b[38;5;28misinstance\u001b[39m(element, (numbers\u001b[38;5;241m.\u001b[39mNumber)):\n\u001b[0;32m    649\u001b[0m     \u001b[38;5;28;01mreturn\u001b[39;00m elements\u001b[38;5;241m.\u001b[39mColumnClause(\u001b[38;5;28mstr\u001b[39m(element), is_literal\u001b[38;5;241m=\u001b[39m\u001b[38;5;28;01mTrue\u001b[39;00m)\n\u001b[1;32m--> 651\u001b[0m \u001b[38;5;28mself\u001b[39m\u001b[38;5;241m.\u001b[39m_raise_for_expected(element, argname)\n",
      "File \u001b[1;32m~\\anaconda3\\Lib\\site-packages\\sqlalchemy\\sql\\coercions.py:1137\u001b[0m, in \u001b[0;36mColumnsClauseImpl._raise_for_expected\u001b[1;34m(self, element, argname, resolved, advice, **kw)\u001b[0m\n\u001b[0;32m   1131\u001b[0m \u001b[38;5;28;01mif\u001b[39;00m \u001b[38;5;129;01mnot\u001b[39;00m advice \u001b[38;5;129;01mand\u001b[39;00m \u001b[38;5;28misinstance\u001b[39m(element, \u001b[38;5;28mlist\u001b[39m):\n\u001b[0;32m   1132\u001b[0m     advice \u001b[38;5;241m=\u001b[39m (\n\u001b[0;32m   1133\u001b[0m         \u001b[38;5;124mf\u001b[39m\u001b[38;5;124m\"\u001b[39m\u001b[38;5;124mDid you mean to say select(\u001b[39m\u001b[38;5;124m\"\u001b[39m\n\u001b[0;32m   1134\u001b[0m         \u001b[38;5;124mf\u001b[39m\u001b[38;5;124m\"\u001b[39m\u001b[38;5;132;01m{\u001b[39;00m\u001b[38;5;124m'\u001b[39m\u001b[38;5;124m, \u001b[39m\u001b[38;5;124m'\u001b[39m\u001b[38;5;241m.\u001b[39mjoin(\u001b[38;5;28mrepr\u001b[39m(e)\u001b[38;5;250m \u001b[39m\u001b[38;5;28;01mfor\u001b[39;00m\u001b[38;5;250m \u001b[39me\u001b[38;5;250m \u001b[39m\u001b[38;5;129;01min\u001b[39;00m\u001b[38;5;250m \u001b[39melement)\u001b[38;5;132;01m}\u001b[39;00m\u001b[38;5;124m)?\u001b[39m\u001b[38;5;124m\"\u001b[39m\n\u001b[0;32m   1135\u001b[0m     )\n\u001b[1;32m-> 1137\u001b[0m \u001b[38;5;28;01mreturn\u001b[39;00m \u001b[38;5;28msuper\u001b[39m()\u001b[38;5;241m.\u001b[39m_raise_for_expected(\n\u001b[0;32m   1138\u001b[0m     element, argname\u001b[38;5;241m=\u001b[39margname, resolved\u001b[38;5;241m=\u001b[39mresolved, advice\u001b[38;5;241m=\u001b[39madvice, \u001b[38;5;241m*\u001b[39m\u001b[38;5;241m*\u001b[39mkw\n\u001b[0;32m   1139\u001b[0m )\n",
      "File \u001b[1;32m~\\anaconda3\\Lib\\site-packages\\sqlalchemy\\sql\\coercions.py:710\u001b[0m, in \u001b[0;36m_SelectIsNotFrom._raise_for_expected\u001b[1;34m(self, element, argname, resolved, advice, code, err, **kw)\u001b[0m\n\u001b[0;32m    707\u001b[0m \u001b[38;5;28;01melse\u001b[39;00m:\n\u001b[0;32m    708\u001b[0m     code \u001b[38;5;241m=\u001b[39m \u001b[38;5;28;01mNone\u001b[39;00m\n\u001b[1;32m--> 710\u001b[0m \u001b[38;5;28msuper\u001b[39m()\u001b[38;5;241m.\u001b[39m_raise_for_expected(\n\u001b[0;32m    711\u001b[0m     element,\n\u001b[0;32m    712\u001b[0m     argname\u001b[38;5;241m=\u001b[39margname,\n\u001b[0;32m    713\u001b[0m     resolved\u001b[38;5;241m=\u001b[39mresolved,\n\u001b[0;32m    714\u001b[0m     advice\u001b[38;5;241m=\u001b[39madvice,\n\u001b[0;32m    715\u001b[0m     code\u001b[38;5;241m=\u001b[39mcode,\n\u001b[0;32m    716\u001b[0m     err\u001b[38;5;241m=\u001b[39merr,\n\u001b[0;32m    717\u001b[0m     \u001b[38;5;241m*\u001b[39m\u001b[38;5;241m*\u001b[39mkw,\n\u001b[0;32m    718\u001b[0m )\n\u001b[0;32m    719\u001b[0m \u001b[38;5;66;03m# never reached\u001b[39;00m\n\u001b[0;32m    720\u001b[0m \u001b[38;5;28;01massert\u001b[39;00m \u001b[38;5;28;01mFalse\u001b[39;00m\n",
      "File \u001b[1;32m~\\anaconda3\\Lib\\site-packages\\sqlalchemy\\sql\\coercions.py:535\u001b[0m, in \u001b[0;36mRoleImpl._raise_for_expected\u001b[1;34m(self, element, argname, resolved, advice, code, err, **kw)\u001b[0m\n\u001b[0;32m    532\u001b[0m \u001b[38;5;28;01mif\u001b[39;00m advice:\n\u001b[0;32m    533\u001b[0m     msg \u001b[38;5;241m+\u001b[39m\u001b[38;5;241m=\u001b[39m \u001b[38;5;124m\"\u001b[39m\u001b[38;5;124m \u001b[39m\u001b[38;5;124m\"\u001b[39m \u001b[38;5;241m+\u001b[39m advice\n\u001b[1;32m--> 535\u001b[0m \u001b[38;5;28;01mraise\u001b[39;00m exc\u001b[38;5;241m.\u001b[39mArgumentError(msg, code\u001b[38;5;241m=\u001b[39mcode) \u001b[38;5;28;01mfrom\u001b[39;00m \u001b[38;5;21;01merr\u001b[39;00m\n",
      "\u001b[1;31mArgumentError\u001b[0m: Column expression, FROM clause, or other columns clause element expected, got [Column('title', TEXT(), table=<books>)]. Did you mean to say select(Column('title', TEXT(), table=<books>))?"
     ]
    }
   ],
   "source": [
    "from sqlalchemy import create_engine, MetaData, Table, select\n",
    "\n",
    "# Create an engine to connect to the database\n",
    "engine = create_engine('sqlite:///books.db', echo=True)\n",
    "\n",
    "# Reflect the existing database into a new MetaData object\n",
    "metadata = MetaData()\n",
    "metadata.reflect(bind=engine)\n",
    "\n",
    "# Get the table object\n",
    "books_table = metadata.tables['books']\n",
    "\n",
    "# Start a session\n",
    "conn = engine.connect()\n",
    "\n",
    "# Define a select statement\n",
    "select_statement = select([books_table.columns.title]).order_by(books_table.columns.title)\n",
    "\n",
    "# Execute the statement and fetch all results\n",
    "results = conn.execute(select_statement).fetchall()\n",
    "\n",
    "# Print the results\n",
    "for result in results:\n",
    "    print(result[0])\n",
    "\n",
    "# Close connection\n",
    "conn.close()"
   ]
  },
  {
   "cell_type": "markdown",
   "id": "ad9c333b-d97d-4412-9033-27858bf0ab40",
   "metadata": {},
   "source": [
    "**16.8 Version 3**"
   ]
  },
  {
   "cell_type": "code",
   "execution_count": 25,
   "id": "ff9ef802-f883-4430-aabb-5d7a92ec16ae",
   "metadata": {},
   "outputs": [
    {
     "name": "stdout",
     "output_type": "stream",
     "text": [
      "Exercise 16.4: SQLite database 'books.db' created with 'book' table.\n",
      "\n",
      "Exercise 16.6: Titles selected from SQLite database:\n",
      "\n",
      "Exercise 16.8: Titles selected from SQLAlchemy:\n"
     ]
    }
   ],
   "source": [
    "import sqlite3\n",
    "import sqlalchemy\n",
    "\n",
    "# Exercise 16.4: Creating SQLite Database and Table\n",
    "db = sqlite3.connect('books.db')\n",
    "curs = db.cursor()\n",
    "curs.execute('''CREATE TABLE IF NOT EXISTS book (\n",
    "                  title TEXT,\n",
    "                  author TEXT,\n",
    "                  year INT\n",
    "                )''')\n",
    "db.commit()\n",
    "\n",
    "# Print a message indicating the completion of Exercise 16.4\n",
    "print(\"Exercise 16.4: SQLite database 'books.db' created with 'book' table.\\n\")\n",
    "\n",
    "# Exercise 16.6: Selecting Titles in Alphabetical Order from SQLite\n",
    "sql = 'SELECT title, author, year FROM book ORDER BY title ASC'\n",
    "titles_sqlite = db.execute(sql).fetchall()\n",
    "\n",
    "# Print the titles selected from SQLite\n",
    "print(\"Exercise 16.6: Titles selected from SQLite database:\")\n",
    "for title, author, year in titles_sqlite:\n",
    "    print(f\"Title: '{title}', Author: '{author}', Year: {year}\")\n",
    "print()  # Add a newline for separation\n",
    "\n",
    "# Exercise 16.8: Connecting with SQLAlchemy and Selecting Titles\n",
    "conn = sqlalchemy.create_engine('sqlite:///books.db').connect()\n",
    "query = sqlalchemy.text('SELECT title, author, year FROM book ORDER BY title ASC')\n",
    "rows = conn.execute(query)\n",
    "titles_sqlalchemy = rows.fetchall()\n",
    "\n",
    "# Print the titles selected from SQLAlchemy\n",
    "print(\"Exercise 16.8: Titles selected from SQLAlchemy:\")\n",
    "for title, author, year in titles_sqlalchemy:\n",
    "    print(f\"Title: '{title}', Author: '{author}', Year: {year}\")"
   ]
  }
 ],
 "metadata": {
  "kernelspec": {
   "display_name": "Python 3 (ipykernel)",
   "language": "python",
   "name": "python3"
  },
  "language_info": {
   "codemirror_mode": {
    "name": "ipython",
    "version": 3
   },
   "file_extension": ".py",
   "mimetype": "text/x-python",
   "name": "python",
   "nbconvert_exporter": "python",
   "pygments_lexer": "ipython3",
   "version": "3.11.7"
  }
 },
 "nbformat": 4,
 "nbformat_minor": 5
}
