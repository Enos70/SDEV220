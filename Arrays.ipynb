{
 "cells": [
  {
   "cell_type": "markdown",
   "id": "67c4fbad-3ba5-44f5-9c1a-f7c0016ce219",
   "metadata": {},
   "source": [
    "# Sorting an array of 0's, 1's, and 2's in ascending order."
   ]
  },
  {
   "cell_type": "markdown",
   "id": "863bc27d-64c1-4e65-b184-44b1188857e0",
   "metadata": {},
   "source": [
    "## Firisiya Chiomadzi\n",
    "## 04/05/2024"
   ]
  },
  {
   "cell_type": "markdown",
   "id": "be1cce63-f891-4009-8cc9-b8081574a7ec",
   "metadata": {},
   "source": [
    "### Given an array of size N containing only 0's, 1's, and 2's; sort the array in ascending order."
   ]
  },
  {
   "cell_type": "markdown",
   "id": "ef7f6213-4af2-49b8-82a1-45ba841a3177",
   "metadata": {},
   "source": [
    "### Example 1"
   ]
  },
  {
   "cell_type": "markdown",
   "id": "b9e22f7c-80e8-4516-aae3-bf969a0d49fc",
   "metadata": {},
   "source": [
    "Input:\n",
    "\n",
    "N = 5\n",
    "\n",
    "arr[]= {0 2 1 2 0}"
   ]
  },
  {
   "cell_type": "markdown",
   "id": "1e6d1460-d8cd-4042-98e6-ba997317b6cd",
   "metadata": {},
   "source": [
    "### Example 2"
   ]
  },
  {
   "cell_type": "markdown",
   "id": "b905a88e-8131-468b-b577-2f037833018e",
   "metadata": {},
   "source": [
    "Input:\n",
    "\n",
    "N = 3\n",
    "\n",
    "arr[]= {0 1 0}"
   ]
  },
  {
   "cell_type": "code",
   "execution_count": 7,
   "id": "338ac735-7edd-4912-b388-5d70c88cfa4b",
   "metadata": {
    "scrolled": true
   },
   "outputs": [
    {
     "name": "stdout",
     "output_type": "stream",
     "text": [
      "Original array (Example 1): [0, 2, 1, 2, 0]\n",
      "Sorted array (Example 1): [0, 0, 1, 2, 2]\n",
      "\n",
      "Original array (Example 2): [0, 1, 0]\n",
      "Sorted array (Example 2): [0, 0, 1]\n"
     ]
    }
   ],
   "source": [
    "class Solution:\n",
    "    \n",
    "    # Function to sort an array of 0s, 1s, and 2s.\n",
    "    def sort012(self, arr, n):\n",
    "        low = 0\n",
    "        high = n - 1\n",
    "        mid = 0\n",
    "        \n",
    "        # Iterating until mid pointer is less than or equal to high.\n",
    "        while mid <= high:\n",
    "            \n",
    "            # If element at mid is 0, swap with element at low and move both pointers.\n",
    "            if arr[mid] == 0:\n",
    "                arr[mid], arr[low] = arr[low], arr[mid]\n",
    "                mid += 1\n",
    "                low += 1\n",
    "                \n",
    "            # If element at mid is 1, move mid pointer.\n",
    "            elif arr[mid] == 1:\n",
    "                mid += 1\n",
    "                \n",
    "            # If element at mid is 2, swap with element at high and move high pointer.\n",
    "            else:\n",
    "                arr[mid], arr[high] = arr[high], arr[mid]\n",
    "                high -= 1\n",
    "        \n",
    "        return arr\n",
    "\n",
    "# Driver code ends\n",
    "\n",
    "# Example usage:\n",
    "if __name__ == \"__main__\":\n",
    "    sol = Solution()\n",
    "\n",
    "    # Example 1\n",
    "    arr1 = [0, 2, 1, 2, 0]\n",
    "    print(\"Original array (Example 1):\", arr1)\n",
    "    sorted_arr1 = sol.sort012(arr1, len(arr1))\n",
    "    print(\"Sorted array (Example 1):\", sorted_arr1)\n",
    "\n",
    "    # Example 2\n",
    "    arr2 = [0, 1, 0]\n",
    "    print(\"\\nOriginal array (Example 2):\", arr2)\n",
    "    sorted_arr2 = sol.sort012(arr2, len(arr2))\n",
    "    print(\"Sorted array (Example 2):\", sorted_arr2)"
   ]
  }
 ],
 "metadata": {
  "kernelspec": {
   "display_name": "Python 3 (ipykernel)",
   "language": "python",
   "name": "python3"
  },
  "language_info": {
   "codemirror_mode": {
    "name": "ipython",
    "version": 3
   },
   "file_extension": ".py",
   "mimetype": "text/x-python",
   "name": "python",
   "nbconvert_exporter": "python",
   "pygments_lexer": "ipython3",
   "version": "3.11.7"
  }
 },
 "nbformat": 4,
 "nbformat_minor": 5
}
